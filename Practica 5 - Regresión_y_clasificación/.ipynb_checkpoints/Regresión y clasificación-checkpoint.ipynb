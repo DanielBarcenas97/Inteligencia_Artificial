{
 "cells": [
  {
   "cell_type": "code",
   "execution_count": 1,
   "metadata": {},
   "outputs": [],
   "source": [
    "import importlib\n",
    "%matplotlib inline\n",
    "import matplotlib.pyplot as plt\n",
    "\n",
    "import numpy as np\n",
    "from math import sqrt\n",
    "from ipywidgets import interact, interactive, fixed, interact_manual\n",
    "from IPython.core.pylabtools import figsize\n",
    "import ipywidgets as widgets\n",
    "from IPython.display import display\n",
    "from mpl_toolkits.mplot3d import Axes3D\n",
    "\n",
    "from matplotlib.patches import Ellipse\n",
    "import numpy.random as rnd"
   ]
  },
  {
   "cell_type": "markdown",
   "metadata": {},
   "source": [
    "# 1. Regresión\n",
    "1. Dados los datos siguientes, elegir las carácteristicas para ajustar una curva de regresión:\n",
    "\n",
    "\\begin{align}\n",
    "   \\begin{bmatrix}\n",
    "   X & Y\\\\\n",
    "   0.1 & -0.01\\\\\n",
    "   1.05 & 0.978\\\\\n",
    "   2.01 & 1.4\\\\\n",
    "   3.003 & 1.74\\\\\n",
    "   4.11 & 2.1\\\\\n",
    "   4.99 & 2.3\\\\\n",
    "   5.89 & 2.5\n",
    "   \\end{bmatrix}\n",
    "\\end{align}\n"
   ]
  },
  {
   "cell_type": "markdown",
   "metadata": {},
   "source": [
    "a) Graficar los datos. ¿Qué tipo de curva $y=\\theta f(x)$ tiene un comportamiento semejante a la gráfica obtenida?"
   ]
  },
  {
   "cell_type": "code",
   "execution_count": 6,
   "metadata": {},
   "outputs": [
    {
     "data": {
      "image/png": "[encoded data removed]",
      "text/plain": [
       "<matplotlib.figure.Figure at 0x108858c50>"
      ]
     },
     "metadata": {},
     "output_type": "display_data"
    }
   ],
   "source": [
    "x = np.array([[0.1], [1.05], [2.01], [3.003], [4.11], [4.99], [5.89]])\n",
    "y = np.array([[-0.01], [0.978], [1.4], [1.74], [2.1], [2.3], [2.5]])\n",
    "plt.title(\"Datos obtenidos\")\n",
    "plt.scatter(x, y, c=\"red\")\n",
    "plt.xlabel('X')\n",
    "plt.ylabel('Y')\n",
    "plt.show()"
   ]
  },
  {
   "cell_type": "code",
   "execution_count": 15,
   "metadata": {},
   "outputs": [
    {
     "data": {
      "image/png": "[encoded data removed]",
      "text/plain": [
       "<matplotlib.figure.Figure at 0x1089fa860>"
      ]
     },
     "metadata": {},
     "output_type": "display_data"
    }
   ],
   "source": [
    "def raiz(t):\n",
    "    return np.sqrt(t)\n",
    "t1 = np.arange(0.0, 6.0, 0.1)\n",
    "\n",
    "plt.figure(1)\n",
    "plt.subplot(211)\n",
    "plt.title(\"Raiz\")\n",
    "plt.plot(t1, raiz(t1), 'k', c='blue')\n",
    "plt.xlabel('X')\n",
    "plt.ylabel('Y')\n",
    "plt.show()"
   ]
  },
  {
   "cell_type": "code",
   "execution_count": 7,
   "metadata": {},
   "outputs": [
    {
     "data": {
      "image/png": "[encoded data removed]",
      "text/plain": [
       "<matplotlib.figure.Figure at 0x10623d320>"
      ]
     },
     "metadata": {},
     "output_type": "display_data"
    }
   ],
   "source": [
    "t1 = np.arange(0.0, 6.0, 0.1)\n",
    "\n",
    "plt.figure(1)\n",
    "plt.subplot(211)\n",
    "plt.title(\"raiz\")\n",
    "plt.plot(t1, np.sqrt(t1), 'k', c='blue')\n",
    "plt.xlabel('X')\n",
    "plt.ylabel('Y')\n",
    "plt.show()"
   ]
  },
  {
   "cell_type": "markdown",
   "metadata": {},
   "source": [
    "Se parece más a la función $f(x)= \\sqrt{x}$"
   ]
  },
  {
   "cell_type": "markdown",
   "metadata": {},
   "source": [
    "b) Generar nuevas caracteristicas $ x' = f(x) $ usando la $f(x)$ indicada anteriormente. Calcular los valores correspondientes para las nuevas $x'$"
   ]
  },
  {
   "cell_type": "code",
   "execution_count": 8,
   "metadata": {},
   "outputs": [
    {
     "name": "stdout",
     "output_type": "stream",
     "text": [
      "Nuevas caracteristicas con x' = f(x)\n",
      "[[0.31622777]\n",
      " [1.02469508]\n",
      " [1.41774469]\n",
      " [1.73291662]\n",
      " [2.02731349]\n",
      " [2.23383079]\n",
      " [2.42693222]]\n"
     ]
    }
   ],
   "source": [
    "x_prima = np.sqrt(x)\n",
    "print(\"Nuevas caracteristicas con x' = f(x)\")\n",
    "print(x_prima)"
   ]
  },
  {
   "cell_type": "markdown",
   "metadata": {},
   "source": [
    "c) Graficar los datos $(x', y)$ con las caracteristicas $x'$ elegidas."
   ]
  },
  {
   "cell_type": "code",
   "execution_count": 9,
   "metadata": {},
   "outputs": [
    {
     "data": {
      "image/png": "[encoded data removed]",
      "text/plain": [
       "<matplotlib.figure.Figure at 0x1086c0978>"
      ]
     },
     "metadata": {},
     "output_type": "display_data"
    }
   ],
   "source": [
    "plt.title(\"Gráfica con datos de las caracteristicas x'\")\n",
    "plt.scatter(x, x_prima, c=\"blue\")\n",
    "plt.xlabel('X')\n",
    "plt.ylabel('Y')\n",
    "plt.show()"
   ]
  },
  {
   "cell_type": "markdown",
   "metadata": {},
   "source": [
    "d) Ajustar el plano/recta en el espacio transformado $y$ vs $x'$ utilizando la ecuación normal $\\theta = (X^T X)^{-1} X^TY$.\n"
   ]
  },
  {
   "cell_type": "code",
   "execution_count": 10,
   "metadata": {},
   "outputs": [
    {
     "name": "stdout",
     "output_type": "stream",
     "text": [
      "Traspuesta de x:\n",
      "[[1.         0.31622777]\n",
      " [1.         1.02469508]\n",
      " [1.         1.41774469]\n",
      " [1.         1.73291662]\n",
      " [1.         2.02731349]\n",
      " [1.         2.23383079]\n",
      " [1.         2.42693222]] \n",
      "\n",
      "X^T * X:\n",
      "[[ 7.         11.17966065]\n",
      " [11.17966065 21.153     ]] \n",
      "\n",
      "(X^T * X)^(-1):\n",
      "[[ 0.91626215 -0.48425755]\n",
      " [-0.48425755  0.3032116 ]] \n",
      "\n",
      "(X^T * X)^(-1) * X^T:\n",
      "[[ 0.76312647  0.42004582  0.22970858  0.0770842  -0.06547971 -0.16548727\n",
      "  -0.25899809]\n",
      " [-0.38837362 -0.17355811 -0.05438091  0.04118288  0.13044743  0.19306587\n",
      "   0.25161646]] \n",
      "\n",
      "(X^T * X)^(-1) * X^T * Y:\n",
      "[[-0.30673127]\n",
      " [ 1.17670109]]\n"
     ]
    }
   ],
   "source": [
    "x_sesgo = np.array([[1, 0.1**0.5], [1, 1.05**0.5], [1, 2.01**0.5], [1, 3.003**0.5],\n",
    "                    [1, 4.11**0.5], [1, 4.99**0.5], [1, 5.89**0.5]])\n",
    "\n",
    "x_t = np.transpose(x_sesgo)\n",
    "y_t = np.transpose(y)\n",
    "print(\"Traspuesta de x:\")\n",
    "print(x_sesgo, \"\\n\")\n",
    "\n",
    "producto1 = np.dot(x_t, x_sesgo)\n",
    "print(\"X^T * X:\")\n",
    "print(producto1, \"\\n\")\n",
    "\n",
    "invertida = np.linalg.inv(producto1)\n",
    "print(\"(X^T * X)^(-1):\")\n",
    "print(invertida, \"\\n\")\n",
    "\n",
    "producto2 = np.dot(invertida, x_t)\n",
    "print(\"(X^T * X)^(-1) * X^T:\")\n",
    "print(producto2, \"\\n\")\n",
    "theta = np.dot(producto2, y)\n",
    "print(\"(X^T * X)^(-1) * X^T * Y:\")\n",
    "print(theta)"
   ]
  },
  {
   "cell_type": "code",
   "execution_count": 11,
   "metadata": {},
   "outputs": [
    {
     "name": "stdout",
     "output_type": "stream",
     "text": [
      "puntos objetivos: \n",
      "[-0.01   0.978  1.4    1.74   2.1    2.3    2.5  ]\n",
      "\n",
      "puntos obtenidos: \n",
      "[[-0.18906116]\n",
      " [ 0.92880487]\n",
      " [ 2.05843792]\n",
      " [ 3.22690211]\n",
      " [ 4.52951022]\n",
      " [ 5.56500718]\n",
      " [ 6.62403817]]\n",
      "[[-0.30673127]\n",
      " [ 1.17670109]]\n"
     ]
    },
    {
     "data": {
      "image/png": "[encoded data removed]",
      "text/plain": [
       "<matplotlib.figure.Figure at 0x108a3b320>"
      ]
     },
     "metadata": {},
     "output_type": "display_data"
    }
   ],
   "source": [
    "print('puntos objetivos: ')\n",
    "print(y_t[0])\n",
    "\n",
    "print('\\npuntos obtenidos: ')\n",
    "print(theta[0] + theta[1]*x)\n",
    "\n",
    "print(theta)\n",
    "\n",
    "plt.title(\"Puntos anteriores con los nuevos puntos\")\n",
    "plt.xlabel('X')\n",
    "plt.ylabel('Y')\n",
    "plt.plot(x, y, 'ro')\n",
    "plt.plot(x, theta[0] + theta[1]*x_t[1], 'bo')\n",
    "plt.show()"
   ]
  },
  {
   "cell_type": "markdown",
   "metadata": {},
   "source": [
    "e) Calcular la expresión correspondiente en el espacio original (sustituir las $x'$ por la función que representan $f(x)$."
   ]
  },
  {
   "cell_type": "code",
   "execution_count": 12,
   "metadata": {},
   "outputs": [
    {
     "name": "stdout",
     "output_type": "stream",
     "text": [
      "Valores pasados de x':\n",
      "[[0.31622777]\n",
      " [1.02469508]\n",
      " [1.41774469]\n",
      " [1.73291662]\n",
      " [2.02731349]\n",
      " [2.23383079]\n",
      " [2.42693222]]\n",
      "Nuevos valores de x':\n",
      "[0.06537428 0.89902854 1.36153045 1.7323936  2.07881073 2.32181986\n",
      " 2.54904252]\n"
     ]
    }
   ],
   "source": [
    "nueva_x_prima = theta[0] + theta[1]*x_t[1]\n",
    "print(\"Valores pasados de x':\")\n",
    "print(x_prima)\n",
    "print(\"Nuevos valores de x':\")\n",
    "print(nueva_x_prima)"
   ]
  },
  {
   "cell_type": "markdown",
   "metadata": {},
   "source": [
    "f) Graficar la función ajustada en el espacio original $y$ vs $x$."
   ]
  },
  {
   "cell_type": "code",
   "execution_count": 16,
   "metadata": {},
   "outputs": [
    {
     "data": {
      "image/png": "[encoded data removed]",
      "text/plain": [
       "<matplotlib.figure.Figure at 0x108953828>"
      ]
     },
     "metadata": {},
     "output_type": "display_data"
    }
   ],
   "source": [
    "def nueva_f(t):\n",
    "    return theta[0] + theta[1]*raiz(t)\n",
    "\n",
    "t1 = np.arange(0.0, 6.0, 0.1)\n",
    "\n",
    "plt.figure(1)\n",
    "plt.subplot(211)\n",
    "plt.title(\"Función ajustada vs raiz\")\n",
    "plt.plot(t1, nueva_f(t1), 'k', c='blue')\n",
    "plt.plot(t1, raiz(t1), 'k', c='red')\n",
    "plt.xlabel('X')\n",
    "plt.ylabel('Y')\n",
    "plt.show()"
   ]
  },
  {
   "cell_type": "markdown",
   "metadata": {},
   "source": [
    "# 2. Clasificación\n",
    "2. Entrene un clasificador utilizando descenso por la gradiente para detectar la frontera entre los datos siguientes.\n",
    "\\begin{align}\n",
    "   \\begin{bmatrix}\n",
    "   X & Y & clasificación\\\\\n",
    "   -0.6861007046 & -2.7317977268 & FALSO\\\\\n",
    "   0.1845728382  & 0.451296404   & VERDADERO \\\\\n",
    "   -2.3158346172 & -0.6509207096 & FALSO \\\\\n",
    "   -1.0254515503 & -0.0809364635 & VERDADERO \\\\\n",
    "   0.4311453719  & 0.8026880194  & VERDADERO \\\\\n",
    "   -3.7719061095 & 0.814367149   & FALSO \\\\\n",
    "   0.8427785188  & -1.0716033783 & VERDADERO \\\\\n",
    "   2.2864584569  & -2.9176860601 & FALSO \\\\\n",
    "   -0.2791914176 & -0.8346607406 & VERDADERO \\\\\n",
    "   -0.9005654622 & -2.2787579969 & FALSO \\\\\n",
    "   0.1421184987  & -1.213108765  & VERDADERO \\\\\n",
    "   3.1509795878  & -3.7415509261 & FALSO \\\\\n",
    "   0.6174679771  & -0.5790232979 & VERDADERO \\\\\n",
    "   2.0068530366  & -1.4894149248 & FALSO\\\\\n",
    "   3.5943855252  & -0.8032932784 & FALSO\\\\\n",
    "   \\end{bmatrix}\n",
    "\\end{align}"
   ]
  },
  {
   "cell_type": "markdown",
   "metadata": {},
   "source": [
    "a) Graficar los datos."
   ]
  },
  {
   "cell_type": "code",
   "execution_count": 20,
   "metadata": {},
   "outputs": [
    {
     "name": "stdout",
     "output_type": "stream",
     "text": [
      "Entradas originales: [[-0.6861007  -2.73179773]\n",
      " [ 0.18457284  0.4512964 ]\n",
      " [-2.31583462 -0.65092071]\n",
      " [-1.02545155 -0.08093646]\n",
      " [ 0.43114537  0.80268802]\n",
      " [-3.77190611  0.81436715]\n",
      " [ 0.84277852 -1.07160338]\n",
      " [ 2.28645846 -2.91768606]\n",
      " [-0.27919142 -0.83466074]\n",
      " [-0.90056546 -2.278758  ]\n",
      " [ 0.1421185  -1.21310877]\n",
      " [ 3.15097959 -3.74155093]\n",
      " [ 0.61746798 -0.5790233 ]\n",
      " [ 2.00685304 -1.48941492]\n",
      " [ 3.59438553 -0.80329328]]\n",
      "Resultados esperados =  [[0]\n",
      " [1]\n",
      " [0]\n",
      " [1]\n",
      " [1]\n",
      " [0]\n",
      " [1]\n",
      " [0]\n",
      " [1]\n",
      " [0]\n",
      " [1]\n",
      " [0]\n",
      " [1]\n",
      " [0]\n",
      " [0]]\n"
     ]
    }
   ],
   "source": [
    "x_orig = np.array([[-0.6861007046, -2.7317977268],\n",
    "                  [0.1845728382, 0.451296404],\n",
    "                  [-2.3158346172, -0.6509207096],\n",
    "                  [-1.0254515503, -0.0809364635],\n",
    "                  [0.4311453719, 0.8026880194],\n",
    "                  [-3.7719061095, 0.814367149],\n",
    "                  [0.8427785188, -1.0716033783],\n",
    "                  [2.2864584569, -2.9176860601],\n",
    "                  [-0.2791914176, -0.8346607406],\n",
    "                  [-0.9005654622, -2.2787579969],\n",
    "                  [0.1421184987, -1.213108765],\n",
    "                  [3.1509795878, -3.7415509261],\n",
    "                  [0.6174679771, -0.5790232979],\n",
    "                  [2.0068530366, -1.4894149248],\n",
    "                  [3.5943855252, -0.8032932784],])\n",
    "print(\"Entradas originales:\", x_orig)\n",
    "\n",
    "Y = np.array([[0],[1],[0],[1],[1],[0],[1],[0],[1],[0], [1], [0], [1], [0], [0]])\n",
    "print(\"Resultados esperados = \", Y)"
   ]
  },
  {
   "cell_type": "code",
   "execution_count": 21,
   "metadata": {},
   "outputs": [
    {
     "data": {
      "image/png": "[encoded data removed]",
      "text/plain": [
       "<matplotlib.figure.Figure at 0x108941358>"
      ]
     },
     "metadata": {},
     "output_type": "display_data"
    }
   ],
   "source": [
    "def grafica_datos(X, Y, XVars=(0,1)):\n",
    "    fig = plt.gcf()\n",
    "    colores = [\"#348ABD\", \"#A60628\",\"#06A628\"]\n",
    "    c = np.vectorize(lambda b: colores[b])(Y.ravel())\n",
    "    \n",
    "    plt.title(\"Datos de entrenamiento\")\n",
    "    plt.xlabel(\"$x_\" + str(XVars[0] + 1) + \"$\")\n",
    "    plt.ylabel(\"$x_\" + str(XVars[1] + 1) + \"$\")\n",
    "    plt.axhline(y = 0)\n",
    "    plt.axvline(x = 0)\n",
    "    plt.scatter(X[:,XVars[0]], X[:,XVars[1]], color=c)\n",
    "    \n",
    "grafica_datos(x_orig, Y)"
   ]
  },
  {
   "cell_type": "markdown",
   "metadata": {},
   "source": [
    "Los putnod que tiene resultado esperado Falso tiene el color Azul y los verdaderos rojo."
   ]
  },
  {
   "cell_type": "markdown",
   "metadata": {},
   "source": [
    "b) Listar caracteristicas derivadas correspondientes a todos los términos de un polinomio de segundo grado y calcular sus valores."
   ]
  },
  {
   "cell_type": "markdown",
   "metadata": {},
   "source": [
    "Podemos ver que los datos no pueden ser separados por una recta, por lo que tendremos que obtener caracteristicas derivadas.\n",
    "\n",
    "En este caso utilizaremos una sola familia de hipótesis.\n",
    "Los candidatos serán los términos de un polinomio cuadrático:\n",
    "\n",
    "\\begin{align}\n",
    "  x_1' &= x_1   &   x_2' &= x_2   &   x_3' &= x_1 x_2   &   x_4' &= x_1^2   &   x_5' &= x_2^2\n",
    "\\end{align}\n",
    "\n",
    "de forma que la hipótesis se ve como:\n",
    "\n",
    "\\begin{align}\n",
    " z(x_0,...,x_n) &= \\theta_0 x_0 + \\theta_1 x_1' + ... + \\theta_{n} x_n' \\\\\n",
    " h_\\Theta(x_0,...,x_n) &= sigmoide(z)\n",
    "\\end{align}\n",
    "\n",
    "en forma vectorizada:\n",
    "\\begin{align}\n",
    " z(\\Theta) &= \\Theta^T X \\\\\n",
    " h_\\Theta(X) &= sigmoide(z)\n",
    "\\end{align}"
   ]
  },
  {
   "cell_type": "code",
   "execution_count": 24,
   "metadata": {},
   "outputs": [
    {
     "name": "stdout",
     "output_type": "stream",
     "text": [
      "X =  [[-6.86100705e-01 -2.73179773e+00  1.87428835e+00  4.70734177e-01\n",
      "   7.46271882e+00]\n",
      " [ 1.84572838e-01  4.51296404e-01  8.32970582e-02  3.40671326e-02\n",
      "   2.03668444e-01]\n",
      " [-2.31583462e+00 -6.50920710e-01  1.50742471e+00  5.36308997e+00\n",
      "   4.23697770e-01]\n",
      " [-1.02545155e+00 -8.09364635e-02  8.29964220e-02  1.05155088e+00\n",
      "   6.55071112e-03]\n",
      " [ 4.31145372e-01  8.02688019e-01  3.46075225e-01  1.85886332e-01\n",
      "   6.44308056e-01]\n",
      " [-3.77190611e+00  8.14367149e-01 -3.07171642e+00  1.42272757e+01\n",
      "   6.63193853e-01]\n",
      " [ 8.42778519e-01 -1.07160338e+00 -9.03124308e-01  7.10275632e-01\n",
      "   1.14833380e+00]\n",
      " [ 2.28645846e+00 -2.91768606e+00 -6.67116797e+00  5.22789228e+00\n",
      "   8.51289195e+00]\n",
      " [-2.79191418e-01 -8.34660741e-01  2.33030115e-01  7.79478477e-02\n",
      "   6.96658552e-01]\n",
      " [-9.00565462e-01 -2.27875800e+00  2.05217075e+00  8.11018152e-01\n",
      "   5.19273801e+00]\n",
      " [ 1.42118499e-01 -1.21310877e+00 -1.72405196e-01  2.01976677e-02\n",
      "   1.47163288e+00]\n",
      " [ 3.15097959e+00 -3.74155093e+00 -1.17895506e+01  9.92867236e+00\n",
      "   1.39992033e+01]\n",
      " [ 6.17467977e-01 -5.79023298e-01 -3.57528344e-01  3.81266703e-01\n",
      "   3.35267980e-01]\n",
      " [ 2.00685304e+00 -1.48941492e+00 -2.98903686e+00  4.02745911e+00\n",
      "   2.21835682e+00]\n",
      " [ 3.59438553e+00 -8.03293278e-01 -2.88734573e+00  1.29196073e+01\n",
      "   6.45280091e-01]]\n"
     ]
    }
   ],
   "source": [
    "XCross = np.prod(x_orig, axis=1, keepdims=True)   # x_1 x_2\n",
    "XSquare = x_orig ** 2                             # x_i^2\n",
    "\n",
    "X = np.hstack((x_orig, XCross, XSquare))\n",
    "print(\"X = \", X)"
   ]
  },
  {
   "cell_type": "code",
   "execution_count": 25,
   "metadata": {},
   "outputs": [
    {
     "name": "stdout",
     "output_type": "stream",
     "text": [
      "[[ 1.00000000e+00 -6.86100705e-01 -2.73179773e+00  1.87428835e+00\n",
      "   4.70734177e-01  7.46271882e+00]\n",
      " [ 1.00000000e+00  1.84572838e-01  4.51296404e-01  8.32970582e-02\n",
      "   3.40671326e-02  2.03668444e-01]\n",
      " [ 1.00000000e+00 -2.31583462e+00 -6.50920710e-01  1.50742471e+00\n",
      "   5.36308997e+00  4.23697770e-01]\n",
      " [ 1.00000000e+00 -1.02545155e+00 -8.09364635e-02  8.29964220e-02\n",
      "   1.05155088e+00  6.55071112e-03]\n",
      " [ 1.00000000e+00  4.31145372e-01  8.02688019e-01  3.46075225e-01\n",
      "   1.85886332e-01  6.44308056e-01]\n",
      " [ 1.00000000e+00 -3.77190611e+00  8.14367149e-01 -3.07171642e+00\n",
      "   1.42272757e+01  6.63193853e-01]\n",
      " [ 1.00000000e+00  8.42778519e-01 -1.07160338e+00 -9.03124308e-01\n",
      "   7.10275632e-01  1.14833380e+00]\n",
      " [ 1.00000000e+00  2.28645846e+00 -2.91768606e+00 -6.67116797e+00\n",
      "   5.22789228e+00  8.51289195e+00]\n",
      " [ 1.00000000e+00 -2.79191418e-01 -8.34660741e-01  2.33030115e-01\n",
      "   7.79478477e-02  6.96658552e-01]\n",
      " [ 1.00000000e+00 -9.00565462e-01 -2.27875800e+00  2.05217075e+00\n",
      "   8.11018152e-01  5.19273801e+00]\n",
      " [ 1.00000000e+00  1.42118499e-01 -1.21310877e+00 -1.72405196e-01\n",
      "   2.01976677e-02  1.47163288e+00]\n",
      " [ 1.00000000e+00  3.15097959e+00 -3.74155093e+00 -1.17895506e+01\n",
      "   9.92867236e+00  1.39992033e+01]\n",
      " [ 1.00000000e+00  6.17467977e-01 -5.79023298e-01 -3.57528344e-01\n",
      "   3.81266703e-01  3.35267980e-01]\n",
      " [ 1.00000000e+00  2.00685304e+00 -1.48941492e+00 -2.98903686e+00\n",
      "   4.02745911e+00  2.21835682e+00]\n",
      " [ 1.00000000e+00  3.59438553e+00 -8.03293278e-01 -2.88734573e+00\n",
      "   1.29196073e+01  6.45280091e-01]]\n"
     ]
    }
   ],
   "source": [
    "def sigmoide(M):\n",
    "    return 1 / (1 + np.exp(-M))\n",
    "\n",
    "# Agrega los unos correspondientes a x_0 = 1\n",
    "X = np.hstack((np.ones((len(X), 1)), X))\n",
    "print(X)"
   ]
  },
  {
   "cell_type": "markdown",
   "metadata": {},
   "source": [
    "c) Ajustar el plano en el espacio transformado. Observe que no se pide graficarlo pues este\n",
    "espacio tiene demasiadas dimensiones."
   ]
  },
  {
   "cell_type": "markdown",
   "metadata": {},
   "source": [
    "Utilizamos descenso por el gradiente para ajustar los parámetros, con la función de error:\n",
    "\\begin{align}\n",
    "  J(\\theta) &= -\\frac{1}{m} \\sum_{i=1}^m \\left[ y \\log(h_{\\theta}(x)) + (1-y) \\log(1 - h_{\\theta}(x))\\right] \\\\\n",
    "  h_{\\Theta}(X) &= \\frac{1}{1 + e^{- \\Theta^T X}}\n",
    "\\end{align}\n",
    "\n",
    "cuya derivada es:\n",
    "\\begin{align}\n",
    "    \\frac{\\partial J}{\\partial \\theta_i} &= \\frac{1}{m} \\sum_{i=1}^m  \\left[ h_{\\Theta}(X) - y \\right] x_i\n",
    "\\end{align}"
   ]
  },
  {
   "cell_type": "code",
   "execution_count": 29,
   "metadata": {},
   "outputs": [
    {
     "name": "stdout",
     "output_type": "stream",
     "text": [
      "[[2.06524637]\n",
      " [2.02422337]\n",
      " [3.11156031]\n",
      " [1.78393018]\n",
      " [1.28078407]\n",
      " [2.16813013]]\n"
     ]
    }
   ],
   "source": [
    "Theta = np.random.random((len(X[0]), 1)) * 4\n",
    "print(Theta)"
   ]
  },
  {
   "cell_type": "markdown",
   "metadata": {},
   "source": [
    "d) Calcular la expresión correspondiente en el espacio original"
   ]
  },
  {
   "cell_type": "code",
   "execution_count": 39,
   "metadata": {},
   "outputs": [
    {
     "name": "stdout",
     "output_type": "stream",
     "text": [
      "Parámetros iniciales. Theta =  [2.06524637 2.02422337 3.11156031 1.78393018 1.28078407 2.16813013]\n"
     ]
    },
    {
     "data": {
      "image/png": "[encoded data removed]",
      "text/plain": [
       "<matplotlib.figure.Figure at 0x11354c898>"
      ]
     },
     "metadata": {},
     "output_type": "display_data"
    },
    {
     "data": {
      "image/png": "[encoded data removed]",
      "text/plain": [
       "<matplotlib.figure.Figure at 0x11354c898>"
      ]
     },
     "execution_count": 39,
     "metadata": {},
     "output_type": "execute_result"
    }
   ],
   "source": [
    "from sympy import var\n",
    "from sympy.plotting import plot_implicit\n",
    "from IPython import display\n",
    "\n",
    "def plot_transformed(X, Y, Theta):\n",
    "    Theta = Theta.ravel()\n",
    "    colores = [\"#348ABD\", \"#A60628\",\"#06A628\"]\n",
    "    print(\"Parámetros iniciales. Theta = \", Theta)\n",
    "    var('x y')\n",
    "    p = plot_implicit(Theta[0] + Theta[1] * x + Theta[2] * y + Theta[3] *x*y + Theta[4] * x**2 + Theta[5] * y**2, x, y,\n",
    "                      title = \"Frontera\", show=False)\n",
    "    p.show()\n",
    "    backend = p._backend\n",
    "    axes = backend.fig.get_axes()[0]\n",
    "    c = np.vectorize(lambda b: colores[b])(Y.ravel())\n",
    "    axes.scatter(X[:,0], X[:,1], color=c)\n",
    "    return backend.fig\n",
    "\n",
    "plot_transformed(x_orig, Y, Theta)"
   ]
  },
  {
   "cell_type": "code",
   "execution_count": 41,
   "metadata": {},
   "outputs": [],
   "source": [
    "def descenso(iteraciones):\n",
    "    \"\"\"\n",
    "    Realiza descenso por el gradiente sobre los datos en X, con respuestas esperadas Y.\n",
    "    \"\"\"\n",
    "    figsize(4, 3)\n",
    "    global Theta\n",
    "    num_iter = iteraciones\n",
    "    errores = np.zeros(num_iter)\n",
    "    m = len(X)\n",
    "    for i in range(0, num_iter):\n",
    "        H = sigmoide(np.dot(X, Theta))\n",
    "        errores[i] = - (np.sum(Y * np.log(H) + (1 - Y) * np.log(1 - H))) / m\n",
    "        grad = np.dot(X.T, H - Y) / 6\n",
    "        Theta = Theta - 0.15 * grad\n",
    "    plt.scatter(np.arange(num_iter), errores)"
   ]
  },
  {
   "cell_type": "code",
   "execution_count": 42,
   "metadata": {},
   "outputs": [
    {
     "data": {
      "application/vnd.jupyter.widget-view+json": {
       "model_id": "02bff639fe24435786e9e022a985c412",
       "version_major": 2,
       "version_minor": 0
      },
      "text/html": [
       "<p>Failed to display Jupyter Widget of type <code>interactive</code>.</p>\n",
       "<p>\n",
       "  If you're reading this message in the Jupyter Notebook or JupyterLab Notebook, it may mean\n",
       "  that the widgets JavaScript is still loading. If this message persists, it\n",
       "  likely means that the widgets JavaScript library is either not installed or\n",
       "  not enabled. See the <a href=\"https://ipywidgets.readthedocs.io/en/stable/user_install.html\">Jupyter\n",
       "  Widgets Documentation</a> for setup instructions.\n",
       "</p>\n",
       "<p>\n",
       "  If you're reading this message in another frontend (for example, a static\n",
       "  rendering on GitHub or <a href=\"https://nbviewer.jupyter.org/\">NBViewer</a>),\n",
       "  it may mean that your frontend doesn't currently support widgets.\n",
       "</p>\n"
      ],
      "text/plain": [
       "interactive(children=(Button(description='Run Interact', style=ButtonStyle()), Output()), _dom_classes=('widget-interact',))"
      ]
     },
     "metadata": {},
     "output_type": "display_data"
    }
   ],
   "source": [
    "# Continuando con el descenso por el gradiente, se puede ver que\n",
    "# la frontera pasa de ser una hipérbola a ser una elipse\n",
    "@interact_manual()\n",
    "def continua_descenso():\n",
    "    descenso(100)"
   ]
  },
  {
   "cell_type": "markdown",
   "metadata": {},
   "source": [
    "e) Graficar la curva ajustada en el espacio original"
   ]
  },
  {
   "cell_type": "code",
   "execution_count": 43,
   "metadata": {},
   "outputs": [
    {
     "data": {
      "image/png": "[encoded data removed]",
      "text/plain": [
       "<matplotlib.figure.Figure at 0x1085a9908>"
      ]
     },
     "metadata": {},
     "output_type": "display_data"
    },
    {
     "data": {
      "application/vnd.jupyter.widget-view+json": {
       "model_id": "6a8616288a604537a875b220fd98a7ab",
       "version_major": 2,
       "version_minor": 0
      },
      "text/html": [
       "<p>Failed to display Jupyter Widget of type <code>interactive</code>.</p>\n",
       "<p>\n",
       "  If you're reading this message in the Jupyter Notebook or JupyterLab Notebook, it may mean\n",
       "  that the widgets JavaScript is still loading. If this message persists, it\n",
       "  likely means that the widgets JavaScript library is either not installed or\n",
       "  not enabled. See the <a href=\"https://ipywidgets.readthedocs.io/en/stable/user_install.html\">Jupyter\n",
       "  Widgets Documentation</a> for setup instructions.\n",
       "</p>\n",
       "<p>\n",
       "  If you're reading this message in another frontend (for example, a static\n",
       "  rendering on GitHub or <a href=\"https://nbviewer.jupyter.org/\">NBViewer</a>),\n",
       "  it may mean that your frontend doesn't currently support widgets.\n",
       "</p>\n"
      ],
      "text/plain": [
       "interactive(children=(Button(description='Run Interact', style=ButtonStyle()), Output()), _dom_classes=('widget-interact',))"
      ]
     },
     "metadata": {},
     "output_type": "display_data"
    }
   ],
   "source": [
    "grafica_datos(x_orig, Y)\n",
    "t =plt.title(\"Espacio original\")\n",
    "@interact_manual()\n",
    "def grafica_solucion():\n",
    "    return plot_transformed(x_orig, Y, Theta)"
   ]
  },
  {
   "cell_type": "code",
   "execution_count": null,
   "metadata": {},
   "outputs": [],
   "source": []
  }
 ],
 "metadata": {
  "kernelspec": {
   "display_name": "Python 3",
   "language": "python",
   "name": "python3"
  },
  "language_info": {
   "codemirror_mode": {
    "name": "ipython",
    "version": 3
   },
   "file_extension": ".py",
   "mimetype": "text/x-python",
   "name": "python",
   "nbconvert_exporter": "python",
   "pygments_lexer": "ipython3",
   "version": "3.6.4"
  }
 },
 "nbformat": 4,
 "nbformat_minor": 2
}
